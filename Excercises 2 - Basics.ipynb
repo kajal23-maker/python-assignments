{
 "cells": [
  {
   "cell_type": "markdown",
   "metadata": {},
   "source": [
    "Write a function translate() that will translate a text into \"rövarspråket\" (Swedish for \"robber's language\"). That is, double every consonant and place an occurrence of \"o\" in between. For example, translate(\"this is fun\") should return the string \"tothohisos isos fofunon\"."
   ]
  },
  {
   "cell_type": "code",
   "execution_count": 6,
   "metadata": {},
   "outputs": [
    {
     "name": "stdout",
     "output_type": "stream",
     "text": [
      "tothohisos isos fofunon\n"
     ]
    }
   ],
   "source": [
    "def translate(string):\n",
    "    str=\"\"\n",
    "    for i in range(len(string)):\n",
    "        if string[i] not in \"aeiou\" and string[i]!=\" \":\n",
    "            str+=string[i]+'o'+string[i]\n",
    "        else:\n",
    "            str+=string[i]\n",
    "    return str\n",
    "print(translate('this is fun'))\n",
    "            "
   ]
  },
  {
   "cell_type": "markdown",
   "metadata": {},
   "source": [
    "Define a function sum() and a function multiply() that sums and multiplies (respectively) all the numbers in a list of numbers. For example, sum([1, 2, 3, 4]) should return 10, and multiply([1, 2, 3, 4]) should return 24"
   ]
  },
  {
   "cell_type": "code",
   "execution_count": 10,
   "metadata": {},
   "outputs": [
    {
     "name": "stdout",
     "output_type": "stream",
     "text": [
      "Sum =  10\n",
      "Multiply =  24\n"
     ]
    }
   ],
   "source": [
    "def sum(num):\n",
    "    ans=0\n",
    "    for i in num:\n",
    "        ans+=i\n",
    "    return ans\n",
    "\n",
    "def multiply(num):\n",
    "    ans=1\n",
    "    for i in num:\n",
    "        ans*=i\n",
    "    return ans\n",
    "print(\"Sum = \", sum([1,2,3,4]))\n",
    "print(\"Multiply = \", multiply([1,2,3,4]))"
   ]
  },
  {
   "cell_type": "markdown",
   "metadata": {},
   "source": [
    "**Define a function reverse() that computes the reversal of a string. For example, reverse(\"I am testing\") should return the string \"gnitset ma I**"
   ]
  },
  {
   "cell_type": "code",
   "execution_count": 21,
   "metadata": {},
   "outputs": [
    {
     "name": "stdout",
     "output_type": "stream",
     "text": [
      "gnitset ma I\n"
     ]
    }
   ],
   "source": [
    "def reverse(string):\n",
    "    temp = list(reversed(string))\n",
    "    st = \"\"\n",
    "    for i in temp:\n",
    "        st += i\n",
    "    return st\n",
    "        \n",
    "    \n",
    "print(reverse(\"I am testing\"))"
   ]
  },
  {
   "cell_type": "markdown",
   "metadata": {},
   "source": [
    "**Define a function is_palindrome() that recognizes palindromes (i.e. words that look the same written backwards). For example, is_palindrome(\"radar\") should return True.**"
   ]
  },
  {
   "cell_type": "code",
   "execution_count": 24,
   "metadata": {},
   "outputs": [
    {
     "data": {
      "text/plain": [
       "True"
      ]
     },
     "execution_count": 24,
     "metadata": {},
     "output_type": "execute_result"
    }
   ],
   "source": [
    "def is_palindrome(string):\n",
    "    temp = string\n",
    "    st = \"\"\n",
    "    for i in list(reversed(string)):\n",
    "        st += i\n",
    "    if temp == st:\n",
    "        return True\n",
    "    return False\n",
    "is_palindrome(\"radar\")\n",
    "    "
   ]
  },
  {
   "cell_type": "markdown",
   "metadata": {},
   "source": [
    "**Write a function is_member() that takes a value (i.e. a number, string, etc) x and a list of values a, and returns True if x is a member of a, False otherwise.**"
   ]
  },
  {
   "cell_type": "code",
   "execution_count": 28,
   "metadata": {},
   "outputs": [
    {
     "name": "stdout",
     "output_type": "stream",
     "text": [
      "True\n"
     ]
    }
   ],
   "source": [
    "def is_member(x, a):\n",
    "    for i in a:\n",
    "        if i==x:\n",
    "            return True\n",
    "    return False\n",
    "print(is_member(\"abc\", [\"aaa\",\"abc\",\"okih\"]))\n",
    "    "
   ]
  },
  {
   "cell_type": "markdown",
   "metadata": {},
   "source": [
    "**Define a function overlapping() that takes two lists and returns True if they have at least one member in common, False otherwise. You may use your is_member() function, or the in operator, but for the sake of the exercise, you should (also) write it using two nested for-loops.**"
   ]
  },
  {
   "cell_type": "code",
   "execution_count": 33,
   "metadata": {},
   "outputs": [
    {
     "name": "stdout",
     "output_type": "stream",
     "text": [
      "True\n"
     ]
    }
   ],
   "source": [
    "def overlapping(l1, l2):\n",
    "    for i in l1:\n",
    "        for j in l2:\n",
    "            if i==j:\n",
    "                return True\n",
    "    return False\n",
    "\n",
    "print(overlapping([1,2,3],[4,1,6]))"
   ]
  },
  {
   "cell_type": "code",
   "execution_count": null,
   "metadata": {},
   "outputs": [],
   "source": []
  },
  {
   "cell_type": "markdown",
   "metadata": {},
   "source": [
    "# *Define a procedure histogram() that takes a list of integers and prints a histogram to the screen. For example, histogram([4, 9, 7]) should print the following:*(click on next cell to see)\n"
   ]
  },
  {
   "cell_type": "markdown",
   "metadata": {},
   "source": [
    "\n",
    "****\n",
    "*********\n",
    "*******"
   ]
  },
  {
   "cell_type": "code",
   "execution_count": 38,
   "metadata": {},
   "outputs": [],
   "source": [
    "def histogram(l):\n",
    "    for i in l:\n",
    "        while(i>0):\n",
    "            print(\"*\", end=\"\")\n",
    "            i-=1\n",
    "        print()"
   ]
  },
  {
   "cell_type": "code",
   "execution_count": 39,
   "metadata": {},
   "outputs": [
    {
     "name": "stdout",
     "output_type": "stream",
     "text": [
      "*\n",
      "*****\n",
      "*******\n"
     ]
    }
   ],
   "source": [
    "histogram([1,5,7])"
   ]
  },
  {
   "cell_type": "markdown",
   "metadata": {},
   "source": [
    "**Write a function char_freq() that takes a string and builds a frequency listing of the characters contained in it. Represent the frequency listing as a Python dictionary. Try it with something like char_freq(\"abbabcbdbabdbdbabababcbcbab\").**\n",
    "\n"
   ]
  },
  {
   "cell_type": "code",
   "execution_count": 40,
   "metadata": {},
   "outputs": [],
   "source": [
    "def char_freq(s):\n",
    "    s1=set(s)\n",
    "    d={}\n",
    "    for i in s1:\n",
    "        count=0\n",
    "        for j in range(len(s)):\n",
    "            if i==s[j]:\n",
    "             count+=1\n",
    "        d.update({i:count})\n",
    "    return d\n",
    "        "
   ]
  },
  {
   "cell_type": "code",
   "execution_count": 41,
   "metadata": {},
   "outputs": [
    {
     "data": {
      "text/plain": [
       "{'c': 3, 'b': 14, 'a': 7, 'd': 3}"
      ]
     },
     "execution_count": 41,
     "metadata": {},
     "output_type": "execute_result"
    }
   ],
   "source": [
    "char_freq(\"abbabcbdbabdbdbabababcbcbab\")"
   ]
  },
  {
   "cell_type": "markdown",
   "metadata": {},
   "source": [
    "A certain childrens game involves starting with a word in a particular category. Each participant in turn says a word, but that word must begin with the final letter of the previous word. Once a word has been given, it cannot be repeated. If an opponent cannot give a word in the category, they fall out of the game. For example, with \"animals\" as the category,\n",
    "Child 1: dog \n",
    "Child 2: goldfish\n",
    "Child 1: hippopotamus\n",
    "Child 2: snake\n",
    "...\n",
    "Your task in this exercise is as follows: Take the following selection of 70 English Pokemon names (extracted from Wikipedia's list of Pokemon) and generate the/a sequence with the highest possible number of Pokemon names where the subsequent name starts with the final letter of the preceding name. No Pokemon name is to be repeated.\n",
    "**audino bagon baltoy banette bidoof braviary bronzor carracosta charmeleon\n",
    "cresselia croagunk darmanitan deino emboar emolga exeggcute gabite\n",
    "girafarig gulpin haxorus heatmor heatran ivysaur jellicent jumpluff kangaskhan\n",
    "kricketune landorus ledyba loudred lumineon lunatone machamp magnezone mamoswine\n",
    "nosepass petilil pidgeotto pikachu pinsir poliwrath poochyena porygon2\n",
    "porygonz registeel relicanth remoraid rufflet sableye scolipede scrafty seaking\n",
    "sealeo silcoon simisear snivy snorlax spoink starly tirtouga trapinch treecko\n",
    "tyrogue vigoroth vulpix wailord wartortle whismur wingull yamask**\n",
    "\n"
   ]
  },
  {
   "cell_type": "code",
   "execution_count": 46,
   "metadata": {},
   "outputs": [
    {
     "ename": "IndexError",
     "evalue": "list index out of range",
     "output_type": "error",
     "traceback": [
      "\u001b[1;31m---------------------------------------------------------------------------\u001b[0m",
      "\u001b[1;31mIndexError\u001b[0m                                Traceback (most recent call last)",
      "Cell \u001b[1;32mIn[46], line 9\u001b[0m\n\u001b[0;32m      7\u001b[0m                 seq\u001b[38;5;241m.\u001b[39mappend(names[i])\n\u001b[0;32m      8\u001b[0m     \u001b[38;5;28;01mreturn\u001b[39;00m seq \n\u001b[1;32m----> 9\u001b[0m \u001b[43mgame\u001b[49m\u001b[43m(\u001b[49m\u001b[38;5;124;43m\"\u001b[39;49m\u001b[38;5;124;43mcarracosta charmeleon audino\u001b[39;49m\u001b[38;5;124;43m\"\u001b[39;49m\u001b[43m)\u001b[49m\n",
      "Cell \u001b[1;32mIn[46], line 6\u001b[0m, in \u001b[0;36mgame\u001b[1;34m(s)\u001b[0m\n\u001b[0;32m      4\u001b[0m \u001b[38;5;28;01mfor\u001b[39;00m i \u001b[38;5;129;01min\u001b[39;00m \u001b[38;5;28mrange\u001b[39m(\u001b[38;5;28mlen\u001b[39m(names)\u001b[38;5;241m+\u001b[39m\u001b[38;5;241m1\u001b[39m):\n\u001b[0;32m      5\u001b[0m     \u001b[38;5;28;01mfor\u001b[39;00m j \u001b[38;5;129;01min\u001b[39;00m \u001b[38;5;28mrange\u001b[39m(i,\u001b[38;5;28mlen\u001b[39m(names)\u001b[38;5;241m+\u001b[39m\u001b[38;5;241m1\u001b[39m):\n\u001b[1;32m----> 6\u001b[0m         \u001b[38;5;28;01mif\u001b[39;00m names[i][\u001b[38;5;241m-\u001b[39m\u001b[38;5;241m1\u001b[39m]\u001b[38;5;241m==\u001b[39m\u001b[43mnames\u001b[49m\u001b[43m[\u001b[49m\u001b[43mj\u001b[49m\u001b[43m]\u001b[49m[\u001b[38;5;241m0\u001b[39m]:\n\u001b[0;32m      7\u001b[0m             seq\u001b[38;5;241m.\u001b[39mappend(names[i])\n\u001b[0;32m      8\u001b[0m \u001b[38;5;28;01mreturn\u001b[39;00m seq\n",
      "\u001b[1;31mIndexError\u001b[0m: list index out of range"
     ]
    }
   ],
   "source": [
    "def game(s):\n",
    "    names = s.split()\n",
    "    seq = []\n",
    "    for i in range(len(names)+1):\n",
    "        for j in range(i,len(names)+1):\n",
    "            if names[i][-1]==names[j][0]:\n",
    "                seq.append(names[i])\n",
    "    return seq \n",
    "game(\"carracosta charmeleon audino\")"
   ]
  },
  {
   "cell_type": "markdown",
   "metadata": {},
   "source": [
    "**Write a program able to play the \"Guess the number\"-game, where the number to be guessed is randomly chosen between 1 and 20. (Source: http://inventwithpython.com) This is how it should work when run in a terminal:\n",
    "\n",
    "Hello! What is your name?\n",
    "Torbjörn\n",
    "Well, Torbjörn, I am thinking of a number between 1 and 20.\n",
    "Take a guess.\n",
    "10\n",
    "Your guess is too low.\n",
    "Take a guess.\n",
    "15\n",
    "Your guess is too low.\n",
    "Take a guess.\n",
    "18\n",
    "Good job, Torbjörn! You guessed my number in 3 guesses!***"
   ]
  },
  {
   "cell_type": "code",
   "execution_count": 3,
   "metadata": {},
   "outputs": [
    {
     "name": "stdout",
     "output_type": "stream",
     "text": [
      "Hello! what is your name? Kajal\n",
      "Well, Kajal, I am thinking a number between 1 ans 20.\n",
      "Take a guess: 7\n",
      "7 Your guess is too low.\n",
      "Take a guess: 9\n",
      "9 Your guess is too low.\n",
      "Take a guess: 12\n",
      "12 Your guess is too low.\n",
      "Take a guess: 18\n",
      "18 Your guess is too high.\n",
      "Take a guess: 15\n",
      "15 Your guess is too low.\n",
      "Take a guess: 17\n",
      "Good job, Kajal! You guessed my number in 6 guesses!\n"
     ]
    }
   ],
   "source": [
    "import random\n",
    "\n",
    "name = input(\"Hello! what is your name? \")\n",
    "print(\"Well, {}, I am thinking a number between 1 ans 20.\".format(name))\n",
    "n = random.randint(1,20)\n",
    "guess_num = int(input(\"Take a guess: \"))\n",
    "count=1\n",
    "while True:\n",
    "    if guess_num == n:\n",
    "        print(\"Good job, {}! You guessed my number in {} guesses!\".format(name, count))\n",
    "        break\n",
    "    elif guess_num < n:\n",
    "        print(\"{} Your guess is too low.\".format(guess_num))\n",
    "        count+=1\n",
    "        guess_num = int(input(\"Take a guess: \"))\n",
    "    else:\n",
    "        print(\"{} Your guess is too high.\".format(guess_num))\n",
    "        count+=1\n",
    "        guess_num = int(input(\"Take a guess: \"))\n",
    "        \n",
    "        "
   ]
  },
  {
   "cell_type": "markdown",
   "metadata": {},
   "source": [
    "***Write a program that maps a list of words into a list of integers representing the lengths of the correponding words.***\n"
   ]
  },
  {
   "cell_type": "code",
   "execution_count": 4,
   "metadata": {},
   "outputs": [
    {
     "data": {
      "text/plain": [
       "[2, 3, 4, 7]"
      ]
     },
     "execution_count": 4,
     "metadata": {},
     "output_type": "execute_result"
    }
   ],
   "source": [
    "def map_int(l1):\n",
    "    l2 = []\n",
    "    for i in l1:\n",
    "        l2.append(len(i))\n",
    "    return l2\n",
    "map_int(['te','tes','test','testing'])"
   ]
  },
  {
   "cell_type": "code",
   "execution_count": null,
   "metadata": {},
   "outputs": [],
   "source": []
  }
 ],
 "metadata": {
  "kernelspec": {
   "display_name": "Python 3 (ipykernel)",
   "language": "python",
   "name": "python3"
  },
  "language_info": {
   "codemirror_mode": {
    "name": "ipython",
    "version": 3
   },
   "file_extension": ".py",
   "mimetype": "text/x-python",
   "name": "python",
   "nbconvert_exporter": "python",
   "pygments_lexer": "ipython3",
   "version": "3.11.1"
  },
  "vscode": {
   "interpreter": {
    "hash": "c261aea317cc0286b3b3261fbba9abdec21eaa57589985bb7a274bf54d6cc0a7"
   }
  }
 },
 "nbformat": 4,
 "nbformat_minor": 2
}
